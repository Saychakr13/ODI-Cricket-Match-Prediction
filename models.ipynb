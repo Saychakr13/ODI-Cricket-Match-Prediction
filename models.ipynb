{
 "cells": [
  {
   "cell_type": "code",
   "execution_count": 200,
   "metadata": {
    "scrolled": true
   },
   "outputs": [],
   "source": [
    "import numpy as np\n",
    "import matplotlib.pyplot as plt\n",
    "import pandas as pd\n",
    "from sklearn.model_selection import train_test_split\n",
    "from sklearn.preprocessing import StandardScaler\n",
    "from sklearn.ensemble import RandomForestClassifier\n",
    "from sklearn.naive_bayes import GaussianNB\n",
    "from sklearn.linear_model import LogisticRegression\n",
    "from sklearn.svm import SVC\n",
    "from sklearn.metrics import confusion_matrix\n",
    "from sklearn.model_selection import GridSearchCV\n",
    "from matplotlib.colors import ListedColormap"
   ]
  },
  {
   "cell_type": "code",
   "execution_count": 201,
   "metadata": {},
   "outputs": [],
   "source": [
    "# Importing the dataset\n",
    "dataset = pd.read_csv('dataset.csv') #831x23\n",
    "#X = dataset.iloc[:, 4:22].values\n",
    "#y = dataset.iloc[:, 22].values"
   ]
  },
  {
   "cell_type": "code",
   "execution_count": 202,
   "metadata": {},
   "outputs": [
    {
     "data": {
      "text/plain": [
       "831"
      ]
     },
     "execution_count": 202,
     "metadata": {},
     "output_type": "execute_result"
    }
   ],
   "source": [
    "len(dataset)"
   ]
  },
  {
   "cell_type": "code",
   "execution_count": 203,
   "metadata": {},
   "outputs": [
    {
     "data": {
      "text/plain": [
       "664.8000000000001"
      ]
     },
     "execution_count": 203,
     "metadata": {},
     "output_type": "execute_result"
    }
   ],
   "source": [
    ".8 * 831"
   ]
  },
  {
   "cell_type": "code",
   "execution_count": 204,
   "metadata": {},
   "outputs": [],
   "source": [
    "# Splitting the dataset into the Training set and Test set\n",
    "#from sklearn.cross_validation import train_test_split\n",
    "#X_train, X_test, y_train, y_test = train_test_split(X, y, test_size = 0.25, random_state = 0)\n",
    "\n",
    "X_train = dataset.iloc[0:664, 4:22].values\n",
    "y_train = dataset.iloc[0:664, 22].values\n",
    "X_test = dataset.iloc[664:831, 4:22].values\n",
    "y_test = dataset.iloc[664:831, 22].values"
   ]
  },
  {
   "cell_type": "code",
   "execution_count": 205,
   "metadata": {},
   "outputs": [
    {
     "data": {
      "text/plain": [
       "array([2.50000000e-01, 7.36749117e-01, 7.39045764e-01, 2.25405405e+01,\n",
       "       1.45961538e+01, 3.26855124e-02, 5.06329114e-02, 1.66067233e+01,\n",
       "       1.07872257e+01, 7.50000000e-01, 9.47144075e-01, 9.21632653e-01,\n",
       "       3.26764706e+01, 1.94655172e+01, 2.89855072e-02, 4.73469388e-02,\n",
       "       3.09493255e+01, 1.79400563e+01])"
      ]
     },
     "execution_count": 205,
     "metadata": {},
     "output_type": "execute_result"
    }
   ],
   "source": [
    "X_train[0]"
   ]
  },
  {
   "cell_type": "code",
   "execution_count": 206,
   "metadata": {},
   "outputs": [
    {
     "data": {
      "text/plain": [
       "0"
      ]
     },
     "execution_count": 206,
     "metadata": {},
     "output_type": "execute_result"
    }
   ],
   "source": [
    "y_train[0]"
   ]
  },
  {
   "cell_type": "code",
   "execution_count": 207,
   "metadata": {},
   "outputs": [
    {
     "data": {
      "text/plain": [
       "664"
      ]
     },
     "execution_count": 207,
     "metadata": {},
     "output_type": "execute_result"
    }
   ],
   "source": [
    "len(y_train)"
   ]
  },
  {
   "cell_type": "code",
   "execution_count": 208,
   "metadata": {},
   "outputs": [],
   "source": [
    "sc = StandardScaler()\n",
    "X_train = sc.fit_transform(X_train)\n",
    "X_test = sc.transform(X_test)\n"
   ]
  },
  {
   "cell_type": "code",
   "execution_count": 209,
   "metadata": {},
   "outputs": [
    {
     "data": {
      "text/plain": [
       "RandomForestClassifier(criterion='entropy', n_estimators=10, random_state=0)"
      ]
     },
     "execution_count": 209,
     "metadata": {},
     "output_type": "execute_result"
    }
   ],
   "source": [
    "classifier = RandomForestClassifier(n_estimators =10 , criterion = 'entropy', random_state = 0)\n",
    "classifier.fit(X_train, y_train)"
   ]
  },
  {
   "cell_type": "code",
   "execution_count": 210,
   "metadata": {},
   "outputs": [],
   "source": [
    "y_pred = classifier.predict(X_test)"
   ]
  },
  {
   "cell_type": "code",
   "execution_count": 211,
   "metadata": {},
   "outputs": [],
   "source": [
    "cm = confusion_matrix(y_test, y_pred)"
   ]
  },
  {
   "cell_type": "code",
   "execution_count": 212,
   "metadata": {},
   "outputs": [
    {
     "data": {
      "text/plain": [
       "array([[21, 38],\n",
       "       [47, 61]])"
      ]
     },
     "execution_count": 212,
     "metadata": {},
     "output_type": "execute_result"
    }
   ],
   "source": [
    "cm"
   ]
  },
  {
   "cell_type": "code",
   "execution_count": 213,
   "metadata": {},
   "outputs": [
    {
     "data": {
      "text/plain": [
       "0.49101796407185627"
      ]
     },
     "execution_count": 213,
     "metadata": {},
     "output_type": "execute_result"
    }
   ],
   "source": [
    "classifier.score(X_test,y_test)"
   ]
  },
  {
   "cell_type": "code",
   "execution_count": 214,
   "metadata": {},
   "outputs": [],
   "source": [
    "y_pred = classifier.predict(X_train)"
   ]
  },
  {
   "cell_type": "code",
   "execution_count": 215,
   "metadata": {},
   "outputs": [],
   "source": [
    "cm = confusion_matrix(y_train, y_pred)"
   ]
  },
  {
   "cell_type": "code",
   "execution_count": 216,
   "metadata": {},
   "outputs": [
    {
     "data": {
      "text/plain": [
       "array([[261,   3],\n",
       "       [  5, 395]])"
      ]
     },
     "execution_count": 216,
     "metadata": {},
     "output_type": "execute_result"
    }
   ],
   "source": [
    "cm"
   ]
  },
  {
   "cell_type": "code",
   "execution_count": 19,
   "metadata": {},
   "outputs": [
    {
     "name": "stdout",
     "output_type": "stream",
     "text": [
      "best_test_score = 0.5688622754491018,best_train_score = 0.9743975903614458,best_n_estimators = 10 ,min_samples_split = 5, criterion = entropy\n"
     ]
    }
   ],
   "source": [
    "n_estimators = [2,4,6,8,10]\n",
    "min_samples_split = [2,3,4,5,6]\n",
    "l = [2,3,4,5,6]\n",
    "criterion = ['entropy','gini']\n",
    "#param_grid = dict(n_estimators=n_estimators,min_samples_split=min_samples_split,criterion=criterion)\n",
    "\n",
    "#model = RandomForestClassifier(random_state = 0)\n",
    "best_test_score=0\n",
    "best_train_score=0\n",
    "best_n_estimators=0\n",
    "min_samples_split=0\n",
    "criterion=''\n",
    "diff=100\n",
    "for n_estimator in [2,4,6,8,10]:\n",
    "    for split in [2,3,4,5,6]:\n",
    "        for c in ['entropy','gini']:\n",
    "            classifier =RandomForestClassifier(n_estimators=n_estimator,min_samples_split=split,criterion=c,random_state = 0)\n",
    "            classifier.fit(X_train, y_train)\n",
    "            #y_pred = classifier.predict(X_train)\n",
    "            train_score = classifier.score(X_train,y_train)\n",
    "            test_score = classifier.score(X_test,y_test)\n",
    "            #print(\"n_estimators = {}, min_samples_split = {}, criterion = {} ,train_score = {},test_score = {}\").format(n_estimator,split,c,train_score,test_score)\n",
    "            #print()\n",
    "            if(test_score > best_test_score):\n",
    "                best_test_score=test_score\n",
    "                best_train_score=train_score\n",
    "                best_n_estimators=n_estimator\n",
    "                best_min_samples_split=split\n",
    "                best_criterion=c\n",
    "                #diff = (abs(test_score-test_score))\n",
    "                \n",
    "\n",
    "print(\"best_test_score = {},best_train_score = {},best_n_estimators = {} ,min_samples_split = {}, criterion = {}\".format(best_test_score,best_train_score,best_n_estimators,best_min_samples_split,best_criterion))        \n"
   ]
  },
  {
   "cell_type": "markdown",
   "metadata": {},
   "source": [
    "\n",
    "## best_test_score = 0.918128654971,best_train_score = 0.994293865906,best_n_estimators = 10 ,min_samples_split = 3, criterion = gini"
   ]
  },
  {
   "cell_type": "markdown",
   "metadata": {},
   "source": [
    "# logistic regression"
   ]
  },
  {
   "cell_type": "code",
   "execution_count": 20,
   "metadata": {},
   "outputs": [
    {
     "data": {
      "text/plain": [
       "LogisticRegression(random_state=0)"
      ]
     },
     "execution_count": 20,
     "metadata": {},
     "output_type": "execute_result"
    }
   ],
   "source": [
    "classifier = LogisticRegression(random_state = 0)\n",
    "classifier.fit(X_train, y_train)"
   ]
  },
  {
   "cell_type": "code",
   "execution_count": 21,
   "metadata": {},
   "outputs": [
    {
     "data": {
      "text/plain": [
       "array([[14, 45],\n",
       "       [13, 95]])"
      ]
     },
     "execution_count": 21,
     "metadata": {},
     "output_type": "execute_result"
    }
   ],
   "source": [
    "y_pred = classifier.predict(X_test)\n",
    "cm = confusion_matrix(y_test, y_pred)\n",
    "cm"
   ]
  },
  {
   "cell_type": "code",
   "execution_count": 218,
   "metadata": {},
   "outputs": [
    {
     "data": {
      "text/plain": [
       "array([[ 47, 217],\n",
       "       [ 31, 369]])"
      ]
     },
     "execution_count": 218,
     "metadata": {},
     "output_type": "execute_result"
    }
   ],
   "source": [
    "y_pred = classifier.predict(X_train)\n",
    "cm = confusion_matrix(y_train, y_pred)\n",
    "cm"
   ]
  },
  {
   "cell_type": "code",
   "execution_count": 219,
   "metadata": {
    "scrolled": true
   },
   "outputs": [
    {
     "name": "stderr",
     "output_type": "stream",
     "text": [
      "/home/sayak/venv/lib/python3.6/site-packages/sklearn/linear_model/_logistic.py:764: ConvergenceWarning: lbfgs failed to converge (status=1):\n",
      "STOP: TOTAL NO. of ITERATIONS REACHED LIMIT.\n",
      "\n",
      "Increase the number of iterations (max_iter) or scale the data as shown in:\n",
      "    https://scikit-learn.org/stable/modules/preprocessing.html\n",
      "Please also refer to the documentation for alternative solver options:\n",
      "    https://scikit-learn.org/stable/modules/linear_model.html#logistic-regression\n",
      "  extra_warning_msg=_LOGISTIC_SOLVER_CONVERGENCE_MSG)\n",
      "/home/sayak/venv/lib/python3.6/site-packages/sklearn/linear_model/_logistic.py:764: ConvergenceWarning: lbfgs failed to converge (status=1):\n",
      "STOP: TOTAL NO. of ITERATIONS REACHED LIMIT.\n",
      "\n",
      "Increase the number of iterations (max_iter) or scale the data as shown in:\n",
      "    https://scikit-learn.org/stable/modules/preprocessing.html\n",
      "Please also refer to the documentation for alternative solver options:\n",
      "    https://scikit-learn.org/stable/modules/linear_model.html#logistic-regression\n",
      "  extra_warning_msg=_LOGISTIC_SOLVER_CONVERGENCE_MSG)\n",
      "/home/sayak/venv/lib/python3.6/site-packages/sklearn/linear_model/_logistic.py:764: ConvergenceWarning: lbfgs failed to converge (status=1):\n",
      "STOP: TOTAL NO. of ITERATIONS REACHED LIMIT.\n",
      "\n",
      "Increase the number of iterations (max_iter) or scale the data as shown in:\n",
      "    https://scikit-learn.org/stable/modules/preprocessing.html\n",
      "Please also refer to the documentation for alternative solver options:\n",
      "    https://scikit-learn.org/stable/modules/linear_model.html#logistic-regression\n",
      "  extra_warning_msg=_LOGISTIC_SOLVER_CONVERGENCE_MSG)\n",
      "/home/sayak/venv/lib/python3.6/site-packages/sklearn/linear_model/_logistic.py:764: ConvergenceWarning: lbfgs failed to converge (status=1):\n",
      "STOP: TOTAL NO. of ITERATIONS REACHED LIMIT.\n",
      "\n",
      "Increase the number of iterations (max_iter) or scale the data as shown in:\n",
      "    https://scikit-learn.org/stable/modules/preprocessing.html\n",
      "Please also refer to the documentation for alternative solver options:\n",
      "    https://scikit-learn.org/stable/modules/linear_model.html#logistic-regression\n",
      "  extra_warning_msg=_LOGISTIC_SOLVER_CONVERGENCE_MSG)\n",
      "/home/sayak/venv/lib/python3.6/site-packages/sklearn/linear_model/_logistic.py:764: ConvergenceWarning: lbfgs failed to converge (status=1):\n",
      "STOP: TOTAL NO. of ITERATIONS REACHED LIMIT.\n",
      "\n",
      "Increase the number of iterations (max_iter) or scale the data as shown in:\n",
      "    https://scikit-learn.org/stable/modules/preprocessing.html\n",
      "Please also refer to the documentation for alternative solver options:\n",
      "    https://scikit-learn.org/stable/modules/linear_model.html#logistic-regression\n",
      "  extra_warning_msg=_LOGISTIC_SOLVER_CONVERGENCE_MSG)\n",
      "/home/sayak/venv/lib/python3.6/site-packages/sklearn/linear_model/_logistic.py:764: ConvergenceWarning: lbfgs failed to converge (status=1):\n",
      "STOP: TOTAL NO. of ITERATIONS REACHED LIMIT.\n",
      "\n",
      "Increase the number of iterations (max_iter) or scale the data as shown in:\n",
      "    https://scikit-learn.org/stable/modules/preprocessing.html\n",
      "Please also refer to the documentation for alternative solver options:\n",
      "    https://scikit-learn.org/stable/modules/linear_model.html#logistic-regression\n",
      "  extra_warning_msg=_LOGISTIC_SOLVER_CONVERGENCE_MSG)\n",
      "/home/sayak/venv/lib/python3.6/site-packages/sklearn/linear_model/_logistic.py:764: ConvergenceWarning: lbfgs failed to converge (status=1):\n",
      "STOP: TOTAL NO. of ITERATIONS REACHED LIMIT.\n",
      "\n",
      "Increase the number of iterations (max_iter) or scale the data as shown in:\n",
      "    https://scikit-learn.org/stable/modules/preprocessing.html\n",
      "Please also refer to the documentation for alternative solver options:\n",
      "    https://scikit-learn.org/stable/modules/linear_model.html#logistic-regression\n",
      "  extra_warning_msg=_LOGISTIC_SOLVER_CONVERGENCE_MSG)\n",
      "/home/sayak/venv/lib/python3.6/site-packages/sklearn/linear_model/_logistic.py:764: ConvergenceWarning: lbfgs failed to converge (status=1):\n",
      "STOP: TOTAL NO. of ITERATIONS REACHED LIMIT.\n",
      "\n",
      "Increase the number of iterations (max_iter) or scale the data as shown in:\n",
      "    https://scikit-learn.org/stable/modules/preprocessing.html\n",
      "Please also refer to the documentation for alternative solver options:\n",
      "    https://scikit-learn.org/stable/modules/linear_model.html#logistic-regression\n",
      "  extra_warning_msg=_LOGISTIC_SOLVER_CONVERGENCE_MSG)\n",
      "/home/sayak/venv/lib/python3.6/site-packages/sklearn/linear_model/_logistic.py:764: ConvergenceWarning: lbfgs failed to converge (status=1):\n",
      "STOP: TOTAL NO. of ITERATIONS REACHED LIMIT.\n",
      "\n",
      "Increase the number of iterations (max_iter) or scale the data as shown in:\n",
      "    https://scikit-learn.org/stable/modules/preprocessing.html\n",
      "Please also refer to the documentation for alternative solver options:\n",
      "    https://scikit-learn.org/stable/modules/linear_model.html#logistic-regression\n",
      "  extra_warning_msg=_LOGISTIC_SOLVER_CONVERGENCE_MSG)\n",
      "/home/sayak/venv/lib/python3.6/site-packages/sklearn/linear_model/_logistic.py:764: ConvergenceWarning: lbfgs failed to converge (status=1):\n",
      "STOP: TOTAL NO. of ITERATIONS REACHED LIMIT.\n",
      "\n",
      "Increase the number of iterations (max_iter) or scale the data as shown in:\n",
      "    https://scikit-learn.org/stable/modules/preprocessing.html\n",
      "Please also refer to the documentation for alternative solver options:\n",
      "    https://scikit-learn.org/stable/modules/linear_model.html#logistic-regression\n",
      "  extra_warning_msg=_LOGISTIC_SOLVER_CONVERGENCE_MSG)\n",
      "/home/sayak/venv/lib/python3.6/site-packages/sklearn/linear_model/_logistic.py:764: ConvergenceWarning: lbfgs failed to converge (status=1):\n",
      "STOP: TOTAL NO. of ITERATIONS REACHED LIMIT.\n",
      "\n",
      "Increase the number of iterations (max_iter) or scale the data as shown in:\n",
      "    https://scikit-learn.org/stable/modules/preprocessing.html\n",
      "Please also refer to the documentation for alternative solver options:\n",
      "    https://scikit-learn.org/stable/modules/linear_model.html#logistic-regression\n",
      "  extra_warning_msg=_LOGISTIC_SOLVER_CONVERGENCE_MSG)\n",
      "/home/sayak/venv/lib/python3.6/site-packages/sklearn/linear_model/_logistic.py:764: ConvergenceWarning: lbfgs failed to converge (status=1):\n",
      "STOP: TOTAL NO. of ITERATIONS REACHED LIMIT.\n",
      "\n",
      "Increase the number of iterations (max_iter) or scale the data as shown in:\n",
      "    https://scikit-learn.org/stable/modules/preprocessing.html\n",
      "Please also refer to the documentation for alternative solver options:\n",
      "    https://scikit-learn.org/stable/modules/linear_model.html#logistic-regression\n",
      "  extra_warning_msg=_LOGISTIC_SOLVER_CONVERGENCE_MSG)\n",
      "/home/sayak/venv/lib/python3.6/site-packages/sklearn/linear_model/_logistic.py:764: ConvergenceWarning: lbfgs failed to converge (status=1):\n",
      "STOP: TOTAL NO. of ITERATIONS REACHED LIMIT.\n",
      "\n",
      "Increase the number of iterations (max_iter) or scale the data as shown in:\n",
      "    https://scikit-learn.org/stable/modules/preprocessing.html\n",
      "Please also refer to the documentation for alternative solver options:\n",
      "    https://scikit-learn.org/stable/modules/linear_model.html#logistic-regression\n",
      "  extra_warning_msg=_LOGISTIC_SOLVER_CONVERGENCE_MSG)\n",
      "/home/sayak/venv/lib/python3.6/site-packages/sklearn/linear_model/_logistic.py:764: ConvergenceWarning: lbfgs failed to converge (status=1):\n",
      "STOP: TOTAL NO. of ITERATIONS REACHED LIMIT.\n",
      "\n",
      "Increase the number of iterations (max_iter) or scale the data as shown in:\n",
      "    https://scikit-learn.org/stable/modules/preprocessing.html\n",
      "Please also refer to the documentation for alternative solver options:\n",
      "    https://scikit-learn.org/stable/modules/linear_model.html#logistic-regression\n",
      "  extra_warning_msg=_LOGISTIC_SOLVER_CONVERGENCE_MSG)\n",
      "/home/sayak/venv/lib/python3.6/site-packages/sklearn/linear_model/_logistic.py:764: ConvergenceWarning: lbfgs failed to converge (status=1):\n",
      "STOP: TOTAL NO. of ITERATIONS REACHED LIMIT.\n",
      "\n",
      "Increase the number of iterations (max_iter) or scale the data as shown in:\n",
      "    https://scikit-learn.org/stable/modules/preprocessing.html\n",
      "Please also refer to the documentation for alternative solver options:\n",
      "    https://scikit-learn.org/stable/modules/linear_model.html#logistic-regression\n",
      "  extra_warning_msg=_LOGISTIC_SOLVER_CONVERGENCE_MSG)\n",
      "/home/sayak/venv/lib/python3.6/site-packages/sklearn/linear_model/_logistic.py:764: ConvergenceWarning: lbfgs failed to converge (status=1):\n",
      "STOP: TOTAL NO. of ITERATIONS REACHED LIMIT.\n",
      "\n",
      "Increase the number of iterations (max_iter) or scale the data as shown in:\n",
      "    https://scikit-learn.org/stable/modules/preprocessing.html\n",
      "Please also refer to the documentation for alternative solver options:\n",
      "    https://scikit-learn.org/stable/modules/linear_model.html#logistic-regression\n",
      "  extra_warning_msg=_LOGISTIC_SOLVER_CONVERGENCE_MSG)\n",
      "/home/sayak/venv/lib/python3.6/site-packages/sklearn/linear_model/_logistic.py:764: ConvergenceWarning: lbfgs failed to converge (status=1):\n",
      "STOP: TOTAL NO. of ITERATIONS REACHED LIMIT.\n",
      "\n",
      "Increase the number of iterations (max_iter) or scale the data as shown in:\n",
      "    https://scikit-learn.org/stable/modules/preprocessing.html\n",
      "Please also refer to the documentation for alternative solver options:\n",
      "    https://scikit-learn.org/stable/modules/linear_model.html#logistic-regression\n",
      "  extra_warning_msg=_LOGISTIC_SOLVER_CONVERGENCE_MSG)\n",
      "/home/sayak/venv/lib/python3.6/site-packages/sklearn/linear_model/_logistic.py:764: ConvergenceWarning: lbfgs failed to converge (status=1):\n",
      "STOP: TOTAL NO. of ITERATIONS REACHED LIMIT.\n",
      "\n",
      "Increase the number of iterations (max_iter) or scale the data as shown in:\n",
      "    https://scikit-learn.org/stable/modules/preprocessing.html\n",
      "Please also refer to the documentation for alternative solver options:\n",
      "    https://scikit-learn.org/stable/modules/linear_model.html#logistic-regression\n",
      "  extra_warning_msg=_LOGISTIC_SOLVER_CONVERGENCE_MSG)\n",
      "/home/sayak/venv/lib/python3.6/site-packages/sklearn/linear_model/_logistic.py:764: ConvergenceWarning: lbfgs failed to converge (status=1):\n",
      "STOP: TOTAL NO. of ITERATIONS REACHED LIMIT.\n",
      "\n",
      "Increase the number of iterations (max_iter) or scale the data as shown in:\n",
      "    https://scikit-learn.org/stable/modules/preprocessing.html\n",
      "Please also refer to the documentation for alternative solver options:\n",
      "    https://scikit-learn.org/stable/modules/linear_model.html#logistic-regression\n",
      "  extra_warning_msg=_LOGISTIC_SOLVER_CONVERGENCE_MSG)\n",
      "/home/sayak/venv/lib/python3.6/site-packages/sklearn/linear_model/_logistic.py:764: ConvergenceWarning: lbfgs failed to converge (status=1):\n",
      "STOP: TOTAL NO. of ITERATIONS REACHED LIMIT.\n",
      "\n",
      "Increase the number of iterations (max_iter) or scale the data as shown in:\n",
      "    https://scikit-learn.org/stable/modules/preprocessing.html\n",
      "Please also refer to the documentation for alternative solver options:\n",
      "    https://scikit-learn.org/stable/modules/linear_model.html#logistic-regression\n",
      "  extra_warning_msg=_LOGISTIC_SOLVER_CONVERGENCE_MSG)\n",
      "/home/sayak/venv/lib/python3.6/site-packages/sklearn/linear_model/_logistic.py:764: ConvergenceWarning: lbfgs failed to converge (status=1):\n",
      "STOP: TOTAL NO. of ITERATIONS REACHED LIMIT.\n",
      "\n",
      "Increase the number of iterations (max_iter) or scale the data as shown in:\n",
      "    https://scikit-learn.org/stable/modules/preprocessing.html\n",
      "Please also refer to the documentation for alternative solver options:\n",
      "    https://scikit-learn.org/stable/modules/linear_model.html#logistic-regression\n",
      "  extra_warning_msg=_LOGISTIC_SOLVER_CONVERGENCE_MSG)\n",
      "/home/sayak/venv/lib/python3.6/site-packages/sklearn/linear_model/_logistic.py:764: ConvergenceWarning: lbfgs failed to converge (status=1):\n",
      "STOP: TOTAL NO. of ITERATIONS REACHED LIMIT.\n",
      "\n",
      "Increase the number of iterations (max_iter) or scale the data as shown in:\n",
      "    https://scikit-learn.org/stable/modules/preprocessing.html\n",
      "Please also refer to the documentation for alternative solver options:\n",
      "    https://scikit-learn.org/stable/modules/linear_model.html#logistic-regression\n",
      "  extra_warning_msg=_LOGISTIC_SOLVER_CONVERGENCE_MSG)\n",
      "/home/sayak/venv/lib/python3.6/site-packages/sklearn/linear_model/_logistic.py:764: ConvergenceWarning: lbfgs failed to converge (status=1):\n",
      "STOP: TOTAL NO. of ITERATIONS REACHED LIMIT.\n",
      "\n",
      "Increase the number of iterations (max_iter) or scale the data as shown in:\n",
      "    https://scikit-learn.org/stable/modules/preprocessing.html\n",
      "Please also refer to the documentation for alternative solver options:\n",
      "    https://scikit-learn.org/stable/modules/linear_model.html#logistic-regression\n",
      "  extra_warning_msg=_LOGISTIC_SOLVER_CONVERGENCE_MSG)\n",
      "/home/sayak/venv/lib/python3.6/site-packages/sklearn/linear_model/_logistic.py:764: ConvergenceWarning: lbfgs failed to converge (status=1):\n",
      "STOP: TOTAL NO. of ITERATIONS REACHED LIMIT.\n",
      "\n",
      "Increase the number of iterations (max_iter) or scale the data as shown in:\n",
      "    https://scikit-learn.org/stable/modules/preprocessing.html\n",
      "Please also refer to the documentation for alternative solver options:\n",
      "    https://scikit-learn.org/stable/modules/linear_model.html#logistic-regression\n",
      "  extra_warning_msg=_LOGISTIC_SOLVER_CONVERGENCE_MSG)\n",
      "/home/sayak/venv/lib/python3.6/site-packages/sklearn/linear_model/_logistic.py:764: ConvergenceWarning: lbfgs failed to converge (status=1):\n",
      "STOP: TOTAL NO. of ITERATIONS REACHED LIMIT.\n",
      "\n",
      "Increase the number of iterations (max_iter) or scale the data as shown in:\n",
      "    https://scikit-learn.org/stable/modules/preprocessing.html\n",
      "Please also refer to the documentation for alternative solver options:\n",
      "    https://scikit-learn.org/stable/modules/linear_model.html#logistic-regression\n",
      "  extra_warning_msg=_LOGISTIC_SOLVER_CONVERGENCE_MSG)\n"
     ]
    },
    {
     "name": "stderr",
     "output_type": "stream",
     "text": [
      "/home/sayak/venv/lib/python3.6/site-packages/sklearn/linear_model/_logistic.py:764: ConvergenceWarning: lbfgs failed to converge (status=1):\n",
      "STOP: TOTAL NO. of ITERATIONS REACHED LIMIT.\n",
      "\n",
      "Increase the number of iterations (max_iter) or scale the data as shown in:\n",
      "    https://scikit-learn.org/stable/modules/preprocessing.html\n",
      "Please also refer to the documentation for alternative solver options:\n",
      "    https://scikit-learn.org/stable/modules/linear_model.html#logistic-regression\n",
      "  extra_warning_msg=_LOGISTIC_SOLVER_CONVERGENCE_MSG)\n",
      "/home/sayak/venv/lib/python3.6/site-packages/sklearn/linear_model/_logistic.py:764: ConvergenceWarning: lbfgs failed to converge (status=1):\n",
      "STOP: TOTAL NO. of ITERATIONS REACHED LIMIT.\n",
      "\n",
      "Increase the number of iterations (max_iter) or scale the data as shown in:\n",
      "    https://scikit-learn.org/stable/modules/preprocessing.html\n",
      "Please also refer to the documentation for alternative solver options:\n",
      "    https://scikit-learn.org/stable/modules/linear_model.html#logistic-regression\n",
      "  extra_warning_msg=_LOGISTIC_SOLVER_CONVERGENCE_MSG)\n",
      "/home/sayak/venv/lib/python3.6/site-packages/sklearn/linear_model/_logistic.py:764: ConvergenceWarning: lbfgs failed to converge (status=1):\n",
      "STOP: TOTAL NO. of ITERATIONS REACHED LIMIT.\n",
      "\n",
      "Increase the number of iterations (max_iter) or scale the data as shown in:\n",
      "    https://scikit-learn.org/stable/modules/preprocessing.html\n",
      "Please also refer to the documentation for alternative solver options:\n",
      "    https://scikit-learn.org/stable/modules/linear_model.html#logistic-regression\n",
      "  extra_warning_msg=_LOGISTIC_SOLVER_CONVERGENCE_MSG)\n",
      "/home/sayak/venv/lib/python3.6/site-packages/sklearn/linear_model/_logistic.py:764: ConvergenceWarning: lbfgs failed to converge (status=1):\n",
      "STOP: TOTAL NO. of ITERATIONS REACHED LIMIT.\n",
      "\n",
      "Increase the number of iterations (max_iter) or scale the data as shown in:\n",
      "    https://scikit-learn.org/stable/modules/preprocessing.html\n",
      "Please also refer to the documentation for alternative solver options:\n",
      "    https://scikit-learn.org/stable/modules/linear_model.html#logistic-regression\n",
      "  extra_warning_msg=_LOGISTIC_SOLVER_CONVERGENCE_MSG)\n",
      "/home/sayak/venv/lib/python3.6/site-packages/sklearn/linear_model/_logistic.py:764: ConvergenceWarning: lbfgs failed to converge (status=1):\n",
      "STOP: TOTAL NO. of ITERATIONS REACHED LIMIT.\n",
      "\n",
      "Increase the number of iterations (max_iter) or scale the data as shown in:\n",
      "    https://scikit-learn.org/stable/modules/preprocessing.html\n",
      "Please also refer to the documentation for alternative solver options:\n",
      "    https://scikit-learn.org/stable/modules/linear_model.html#logistic-regression\n",
      "  extra_warning_msg=_LOGISTIC_SOLVER_CONVERGENCE_MSG)\n",
      "/home/sayak/venv/lib/python3.6/site-packages/sklearn/linear_model/_logistic.py:764: ConvergenceWarning: lbfgs failed to converge (status=1):\n",
      "STOP: TOTAL NO. of ITERATIONS REACHED LIMIT.\n",
      "\n",
      "Increase the number of iterations (max_iter) or scale the data as shown in:\n",
      "    https://scikit-learn.org/stable/modules/preprocessing.html\n",
      "Please also refer to the documentation for alternative solver options:\n",
      "    https://scikit-learn.org/stable/modules/linear_model.html#logistic-regression\n",
      "  extra_warning_msg=_LOGISTIC_SOLVER_CONVERGENCE_MSG)\n",
      "/home/sayak/venv/lib/python3.6/site-packages/sklearn/linear_model/_logistic.py:764: ConvergenceWarning: lbfgs failed to converge (status=1):\n",
      "STOP: TOTAL NO. of ITERATIONS REACHED LIMIT.\n",
      "\n",
      "Increase the number of iterations (max_iter) or scale the data as shown in:\n",
      "    https://scikit-learn.org/stable/modules/preprocessing.html\n",
      "Please also refer to the documentation for alternative solver options:\n",
      "    https://scikit-learn.org/stable/modules/linear_model.html#logistic-regression\n",
      "  extra_warning_msg=_LOGISTIC_SOLVER_CONVERGENCE_MSG)\n",
      "/home/sayak/venv/lib/python3.6/site-packages/sklearn/linear_model/_logistic.py:764: ConvergenceWarning: lbfgs failed to converge (status=1):\n",
      "STOP: TOTAL NO. of ITERATIONS REACHED LIMIT.\n",
      "\n",
      "Increase the number of iterations (max_iter) or scale the data as shown in:\n",
      "    https://scikit-learn.org/stable/modules/preprocessing.html\n",
      "Please also refer to the documentation for alternative solver options:\n",
      "    https://scikit-learn.org/stable/modules/linear_model.html#logistic-regression\n",
      "  extra_warning_msg=_LOGISTIC_SOLVER_CONVERGENCE_MSG)\n",
      "/home/sayak/venv/lib/python3.6/site-packages/sklearn/svm/_base.py:977: ConvergenceWarning: Liblinear failed to converge, increase the number of iterations.\n",
      "  \"the number of iterations.\", ConvergenceWarning)\n",
      "/home/sayak/venv/lib/python3.6/site-packages/sklearn/svm/_base.py:977: ConvergenceWarning: Liblinear failed to converge, increase the number of iterations.\n",
      "  \"the number of iterations.\", ConvergenceWarning)\n",
      "/home/sayak/venv/lib/python3.6/site-packages/sklearn/svm/_base.py:977: ConvergenceWarning: Liblinear failed to converge, increase the number of iterations.\n",
      "  \"the number of iterations.\", ConvergenceWarning)\n",
      "/home/sayak/venv/lib/python3.6/site-packages/sklearn/svm/_base.py:977: ConvergenceWarning: Liblinear failed to converge, increase the number of iterations.\n",
      "  \"the number of iterations.\", ConvergenceWarning)\n",
      "/home/sayak/venv/lib/python3.6/site-packages/sklearn/svm/_base.py:977: ConvergenceWarning: Liblinear failed to converge, increase the number of iterations.\n",
      "  \"the number of iterations.\", ConvergenceWarning)\n",
      "/home/sayak/venv/lib/python3.6/site-packages/sklearn/svm/_base.py:977: ConvergenceWarning: Liblinear failed to converge, increase the number of iterations.\n",
      "  \"the number of iterations.\", ConvergenceWarning)\n",
      "/home/sayak/venv/lib/python3.6/site-packages/sklearn/svm/_base.py:977: ConvergenceWarning: Liblinear failed to converge, increase the number of iterations.\n",
      "  \"the number of iterations.\", ConvergenceWarning)\n",
      "/home/sayak/venv/lib/python3.6/site-packages/sklearn/svm/_base.py:977: ConvergenceWarning: Liblinear failed to converge, increase the number of iterations.\n",
      "  \"the number of iterations.\", ConvergenceWarning)\n",
      "/home/sayak/venv/lib/python3.6/site-packages/sklearn/svm/_base.py:977: ConvergenceWarning: Liblinear failed to converge, increase the number of iterations.\n",
      "  \"the number of iterations.\", ConvergenceWarning)\n",
      "/home/sayak/venv/lib/python3.6/site-packages/sklearn/svm/_base.py:977: ConvergenceWarning: Liblinear failed to converge, increase the number of iterations.\n",
      "  \"the number of iterations.\", ConvergenceWarning)\n",
      "/home/sayak/venv/lib/python3.6/site-packages/sklearn/svm/_base.py:977: ConvergenceWarning: Liblinear failed to converge, increase the number of iterations.\n",
      "  \"the number of iterations.\", ConvergenceWarning)\n",
      "/home/sayak/venv/lib/python3.6/site-packages/sklearn/svm/_base.py:977: ConvergenceWarning: Liblinear failed to converge, increase the number of iterations.\n",
      "  \"the number of iterations.\", ConvergenceWarning)\n",
      "/home/sayak/venv/lib/python3.6/site-packages/sklearn/svm/_base.py:977: ConvergenceWarning: Liblinear failed to converge, increase the number of iterations.\n",
      "  \"the number of iterations.\", ConvergenceWarning)\n",
      "/home/sayak/venv/lib/python3.6/site-packages/sklearn/svm/_base.py:977: ConvergenceWarning: Liblinear failed to converge, increase the number of iterations.\n",
      "  \"the number of iterations.\", ConvergenceWarning)\n",
      "/home/sayak/venv/lib/python3.6/site-packages/sklearn/svm/_base.py:977: ConvergenceWarning: Liblinear failed to converge, increase the number of iterations.\n",
      "  \"the number of iterations.\", ConvergenceWarning)\n",
      "/home/sayak/venv/lib/python3.6/site-packages/sklearn/svm/_base.py:977: ConvergenceWarning: Liblinear failed to converge, increase the number of iterations.\n",
      "  \"the number of iterations.\", ConvergenceWarning)\n",
      "/home/sayak/venv/lib/python3.6/site-packages/sklearn/svm/_base.py:977: ConvergenceWarning: Liblinear failed to converge, increase the number of iterations.\n",
      "  \"the number of iterations.\", ConvergenceWarning)\n",
      "/home/sayak/venv/lib/python3.6/site-packages/sklearn/svm/_base.py:977: ConvergenceWarning: Liblinear failed to converge, increase the number of iterations.\n",
      "  \"the number of iterations.\", ConvergenceWarning)\n",
      "/home/sayak/venv/lib/python3.6/site-packages/sklearn/svm/_base.py:977: ConvergenceWarning: Liblinear failed to converge, increase the number of iterations.\n",
      "  \"the number of iterations.\", ConvergenceWarning)\n",
      "/home/sayak/venv/lib/python3.6/site-packages/sklearn/svm/_base.py:977: ConvergenceWarning: Liblinear failed to converge, increase the number of iterations.\n",
      "  \"the number of iterations.\", ConvergenceWarning)\n",
      "/home/sayak/venv/lib/python3.6/site-packages/sklearn/svm/_base.py:977: ConvergenceWarning: Liblinear failed to converge, increase the number of iterations.\n",
      "  \"the number of iterations.\", ConvergenceWarning)\n",
      "/home/sayak/venv/lib/python3.6/site-packages/sklearn/svm/_base.py:977: ConvergenceWarning: Liblinear failed to converge, increase the number of iterations.\n",
      "  \"the number of iterations.\", ConvergenceWarning)\n",
      "/home/sayak/venv/lib/python3.6/site-packages/sklearn/svm/_base.py:977: ConvergenceWarning: Liblinear failed to converge, increase the number of iterations.\n",
      "  \"the number of iterations.\", ConvergenceWarning)\n",
      "/home/sayak/venv/lib/python3.6/site-packages/sklearn/svm/_base.py:977: ConvergenceWarning: Liblinear failed to converge, increase the number of iterations.\n",
      "  \"the number of iterations.\", ConvergenceWarning)\n",
      "/home/sayak/venv/lib/python3.6/site-packages/sklearn/svm/_base.py:977: ConvergenceWarning: Liblinear failed to converge, increase the number of iterations.\n",
      "  \"the number of iterations.\", ConvergenceWarning)\n",
      "/home/sayak/venv/lib/python3.6/site-packages/sklearn/svm/_base.py:977: ConvergenceWarning: Liblinear failed to converge, increase the number of iterations.\n",
      "  \"the number of iterations.\", ConvergenceWarning)\n",
      "/home/sayak/venv/lib/python3.6/site-packages/sklearn/svm/_base.py:977: ConvergenceWarning: Liblinear failed to converge, increase the number of iterations.\n",
      "  \"the number of iterations.\", ConvergenceWarning)\n",
      "/home/sayak/venv/lib/python3.6/site-packages/sklearn/svm/_base.py:977: ConvergenceWarning: Liblinear failed to converge, increase the number of iterations.\n",
      "  \"the number of iterations.\", ConvergenceWarning)\n",
      "/home/sayak/venv/lib/python3.6/site-packages/sklearn/svm/_base.py:977: ConvergenceWarning: Liblinear failed to converge, increase the number of iterations.\n",
      "  \"the number of iterations.\", ConvergenceWarning)\n",
      "/home/sayak/venv/lib/python3.6/site-packages/sklearn/svm/_base.py:977: ConvergenceWarning: Liblinear failed to converge, increase the number of iterations.\n",
      "  \"the number of iterations.\", ConvergenceWarning)\n",
      "/home/sayak/venv/lib/python3.6/site-packages/sklearn/svm/_base.py:977: ConvergenceWarning: Liblinear failed to converge, increase the number of iterations.\n",
      "  \"the number of iterations.\", ConvergenceWarning)\n",
      "/home/sayak/venv/lib/python3.6/site-packages/sklearn/svm/_base.py:977: ConvergenceWarning: Liblinear failed to converge, increase the number of iterations.\n",
      "  \"the number of iterations.\", ConvergenceWarning)\n",
      "/home/sayak/venv/lib/python3.6/site-packages/sklearn/svm/_base.py:977: ConvergenceWarning: Liblinear failed to converge, increase the number of iterations.\n",
      "  \"the number of iterations.\", ConvergenceWarning)\n",
      "/home/sayak/venv/lib/python3.6/site-packages/sklearn/linear_model/_sag.py:330: ConvergenceWarning: The max_iter was reached which means the coef_ did not converge\n",
      "  \"the coef_ did not converge\", ConvergenceWarning)\n",
      "/home/sayak/venv/lib/python3.6/site-packages/sklearn/linear_model/_sag.py:330: ConvergenceWarning: The max_iter was reached which means the coef_ did not converge\n",
      "  \"the coef_ did not converge\", ConvergenceWarning)\n",
      "/home/sayak/venv/lib/python3.6/site-packages/sklearn/linear_model/_sag.py:330: ConvergenceWarning: The max_iter was reached which means the coef_ did not converge\n",
      "  \"the coef_ did not converge\", ConvergenceWarning)\n",
      "/home/sayak/venv/lib/python3.6/site-packages/sklearn/linear_model/_sag.py:330: ConvergenceWarning: The max_iter was reached which means the coef_ did not converge\n",
      "  \"the coef_ did not converge\", ConvergenceWarning)\n",
      "/home/sayak/venv/lib/python3.6/site-packages/sklearn/linear_model/_sag.py:330: ConvergenceWarning: The max_iter was reached which means the coef_ did not converge\n",
      "  \"the coef_ did not converge\", ConvergenceWarning)\n",
      "/home/sayak/venv/lib/python3.6/site-packages/sklearn/linear_model/_sag.py:330: ConvergenceWarning: The max_iter was reached which means the coef_ did not converge\n",
      "  \"the coef_ did not converge\", ConvergenceWarning)\n",
      "/home/sayak/venv/lib/python3.6/site-packages/sklearn/linear_model/_sag.py:330: ConvergenceWarning: The max_iter was reached which means the coef_ did not converge\n",
      "  \"the coef_ did not converge\", ConvergenceWarning)\n",
      "/home/sayak/venv/lib/python3.6/site-packages/sklearn/linear_model/_sag.py:330: ConvergenceWarning: The max_iter was reached which means the coef_ did not converge\n",
      "  \"the coef_ did not converge\", ConvergenceWarning)\n",
      "/home/sayak/venv/lib/python3.6/site-packages/sklearn/linear_model/_sag.py:330: ConvergenceWarning: The max_iter was reached which means the coef_ did not converge\n",
      "  \"the coef_ did not converge\", ConvergenceWarning)\n",
      "/home/sayak/venv/lib/python3.6/site-packages/sklearn/linear_model/_sag.py:330: ConvergenceWarning: The max_iter was reached which means the coef_ did not converge\n",
      "  \"the coef_ did not converge\", ConvergenceWarning)\n",
      "/home/sayak/venv/lib/python3.6/site-packages/sklearn/linear_model/_sag.py:330: ConvergenceWarning: The max_iter was reached which means the coef_ did not converge\n",
      "  \"the coef_ did not converge\", ConvergenceWarning)\n",
      "/home/sayak/venv/lib/python3.6/site-packages/sklearn/linear_model/_sag.py:330: ConvergenceWarning: The max_iter was reached which means the coef_ did not converge\n",
      "  \"the coef_ did not converge\", ConvergenceWarning)\n",
      "/home/sayak/venv/lib/python3.6/site-packages/sklearn/linear_model/_sag.py:330: ConvergenceWarning: The max_iter was reached which means the coef_ did not converge\n",
      "  \"the coef_ did not converge\", ConvergenceWarning)\n",
      "/home/sayak/venv/lib/python3.6/site-packages/sklearn/linear_model/_sag.py:330: ConvergenceWarning: The max_iter was reached which means the coef_ did not converge\n",
      "  \"the coef_ did not converge\", ConvergenceWarning)\n",
      "/home/sayak/venv/lib/python3.6/site-packages/sklearn/linear_model/_sag.py:330: ConvergenceWarning: The max_iter was reached which means the coef_ did not converge\n",
      "  \"the coef_ did not converge\", ConvergenceWarning)\n",
      "/home/sayak/venv/lib/python3.6/site-packages/sklearn/linear_model/_sag.py:330: ConvergenceWarning: The max_iter was reached which means the coef_ did not converge\n",
      "  \"the coef_ did not converge\", ConvergenceWarning)\n",
      "/home/sayak/venv/lib/python3.6/site-packages/sklearn/linear_model/_sag.py:330: ConvergenceWarning: The max_iter was reached which means the coef_ did not converge\n",
      "  \"the coef_ did not converge\", ConvergenceWarning)\n",
      "/home/sayak/venv/lib/python3.6/site-packages/sklearn/linear_model/_sag.py:330: ConvergenceWarning: The max_iter was reached which means the coef_ did not converge\n",
      "  \"the coef_ did not converge\", ConvergenceWarning)\n",
      "/home/sayak/venv/lib/python3.6/site-packages/sklearn/linear_model/_sag.py:330: ConvergenceWarning: The max_iter was reached which means the coef_ did not converge\n",
      "  \"the coef_ did not converge\", ConvergenceWarning)\n",
      "/home/sayak/venv/lib/python3.6/site-packages/sklearn/linear_model/_sag.py:330: ConvergenceWarning: The max_iter was reached which means the coef_ did not converge\n",
      "  \"the coef_ did not converge\", ConvergenceWarning)\n"
     ]
    },
    {
     "name": "stderr",
     "output_type": "stream",
     "text": [
      "/home/sayak/venv/lib/python3.6/site-packages/sklearn/linear_model/_sag.py:330: ConvergenceWarning: The max_iter was reached which means the coef_ did not converge\n",
      "  \"the coef_ did not converge\", ConvergenceWarning)\n",
      "/home/sayak/venv/lib/python3.6/site-packages/sklearn/linear_model/_sag.py:330: ConvergenceWarning: The max_iter was reached which means the coef_ did not converge\n",
      "  \"the coef_ did not converge\", ConvergenceWarning)\n",
      "/home/sayak/venv/lib/python3.6/site-packages/sklearn/linear_model/_sag.py:330: ConvergenceWarning: The max_iter was reached which means the coef_ did not converge\n",
      "  \"the coef_ did not converge\", ConvergenceWarning)\n",
      "/home/sayak/venv/lib/python3.6/site-packages/sklearn/linear_model/_sag.py:330: ConvergenceWarning: The max_iter was reached which means the coef_ did not converge\n",
      "  \"the coef_ did not converge\", ConvergenceWarning)\n",
      "/home/sayak/venv/lib/python3.6/site-packages/sklearn/linear_model/_sag.py:330: ConvergenceWarning: The max_iter was reached which means the coef_ did not converge\n",
      "  \"the coef_ did not converge\", ConvergenceWarning)\n",
      "/home/sayak/venv/lib/python3.6/site-packages/sklearn/linear_model/_sag.py:330: ConvergenceWarning: The max_iter was reached which means the coef_ did not converge\n",
      "  \"the coef_ did not converge\", ConvergenceWarning)\n",
      "/home/sayak/venv/lib/python3.6/site-packages/sklearn/linear_model/_sag.py:330: ConvergenceWarning: The max_iter was reached which means the coef_ did not converge\n",
      "  \"the coef_ did not converge\", ConvergenceWarning)\n",
      "/home/sayak/venv/lib/python3.6/site-packages/sklearn/linear_model/_sag.py:330: ConvergenceWarning: The max_iter was reached which means the coef_ did not converge\n",
      "  \"the coef_ did not converge\", ConvergenceWarning)\n",
      "/home/sayak/venv/lib/python3.6/site-packages/sklearn/linear_model/_sag.py:330: ConvergenceWarning: The max_iter was reached which means the coef_ did not converge\n",
      "  \"the coef_ did not converge\", ConvergenceWarning)\n",
      "/home/sayak/venv/lib/python3.6/site-packages/sklearn/linear_model/_sag.py:330: ConvergenceWarning: The max_iter was reached which means the coef_ did not converge\n",
      "  \"the coef_ did not converge\", ConvergenceWarning)\n",
      "/home/sayak/venv/lib/python3.6/site-packages/sklearn/linear_model/_sag.py:330: ConvergenceWarning: The max_iter was reached which means the coef_ did not converge\n",
      "  \"the coef_ did not converge\", ConvergenceWarning)\n",
      "/home/sayak/venv/lib/python3.6/site-packages/sklearn/linear_model/_sag.py:330: ConvergenceWarning: The max_iter was reached which means the coef_ did not converge\n",
      "  \"the coef_ did not converge\", ConvergenceWarning)\n",
      "/home/sayak/venv/lib/python3.6/site-packages/sklearn/linear_model/_sag.py:330: ConvergenceWarning: The max_iter was reached which means the coef_ did not converge\n",
      "  \"the coef_ did not converge\", ConvergenceWarning)\n",
      "/home/sayak/venv/lib/python3.6/site-packages/sklearn/linear_model/_sag.py:330: ConvergenceWarning: The max_iter was reached which means the coef_ did not converge\n",
      "  \"the coef_ did not converge\", ConvergenceWarning)\n",
      "/home/sayak/venv/lib/python3.6/site-packages/sklearn/linear_model/_sag.py:330: ConvergenceWarning: The max_iter was reached which means the coef_ did not converge\n",
      "  \"the coef_ did not converge\", ConvergenceWarning)\n",
      "/home/sayak/venv/lib/python3.6/site-packages/sklearn/linear_model/_sag.py:330: ConvergenceWarning: The max_iter was reached which means the coef_ did not converge\n",
      "  \"the coef_ did not converge\", ConvergenceWarning)\n",
      "/home/sayak/venv/lib/python3.6/site-packages/sklearn/linear_model/_sag.py:330: ConvergenceWarning: The max_iter was reached which means the coef_ did not converge\n",
      "  \"the coef_ did not converge\", ConvergenceWarning)\n",
      "/home/sayak/venv/lib/python3.6/site-packages/sklearn/linear_model/_sag.py:330: ConvergenceWarning: The max_iter was reached which means the coef_ did not converge\n",
      "  \"the coef_ did not converge\", ConvergenceWarning)\n",
      "/home/sayak/venv/lib/python3.6/site-packages/sklearn/linear_model/_sag.py:330: ConvergenceWarning: The max_iter was reached which means the coef_ did not converge\n",
      "  \"the coef_ did not converge\", ConvergenceWarning)\n",
      "/home/sayak/venv/lib/python3.6/site-packages/sklearn/linear_model/_sag.py:330: ConvergenceWarning: The max_iter was reached which means the coef_ did not converge\n",
      "  \"the coef_ did not converge\", ConvergenceWarning)\n",
      "/home/sayak/venv/lib/python3.6/site-packages/sklearn/linear_model/_sag.py:330: ConvergenceWarning: The max_iter was reached which means the coef_ did not converge\n",
      "  \"the coef_ did not converge\", ConvergenceWarning)\n",
      "/home/sayak/venv/lib/python3.6/site-packages/sklearn/linear_model/_sag.py:330: ConvergenceWarning: The max_iter was reached which means the coef_ did not converge\n",
      "  \"the coef_ did not converge\", ConvergenceWarning)\n",
      "/home/sayak/venv/lib/python3.6/site-packages/sklearn/linear_model/_sag.py:330: ConvergenceWarning: The max_iter was reached which means the coef_ did not converge\n",
      "  \"the coef_ did not converge\", ConvergenceWarning)\n",
      "/home/sayak/venv/lib/python3.6/site-packages/sklearn/linear_model/_sag.py:330: ConvergenceWarning: The max_iter was reached which means the coef_ did not converge\n",
      "  \"the coef_ did not converge\", ConvergenceWarning)\n",
      "/home/sayak/venv/lib/python3.6/site-packages/sklearn/linear_model/_sag.py:330: ConvergenceWarning: The max_iter was reached which means the coef_ did not converge\n",
      "  \"the coef_ did not converge\", ConvergenceWarning)\n",
      "/home/sayak/venv/lib/python3.6/site-packages/sklearn/linear_model/_sag.py:330: ConvergenceWarning: The max_iter was reached which means the coef_ did not converge\n",
      "  \"the coef_ did not converge\", ConvergenceWarning)\n",
      "/home/sayak/venv/lib/python3.6/site-packages/sklearn/linear_model/_sag.py:330: ConvergenceWarning: The max_iter was reached which means the coef_ did not converge\n",
      "  \"the coef_ did not converge\", ConvergenceWarning)\n",
      "/home/sayak/venv/lib/python3.6/site-packages/sklearn/linear_model/_sag.py:330: ConvergenceWarning: The max_iter was reached which means the coef_ did not converge\n",
      "  \"the coef_ did not converge\", ConvergenceWarning)\n",
      "/home/sayak/venv/lib/python3.6/site-packages/sklearn/linear_model/_sag.py:330: ConvergenceWarning: The max_iter was reached which means the coef_ did not converge\n",
      "  \"the coef_ did not converge\", ConvergenceWarning)\n",
      "/home/sayak/venv/lib/python3.6/site-packages/sklearn/linear_model/_sag.py:330: ConvergenceWarning: The max_iter was reached which means the coef_ did not converge\n",
      "  \"the coef_ did not converge\", ConvergenceWarning)\n",
      "/home/sayak/venv/lib/python3.6/site-packages/sklearn/linear_model/_sag.py:330: ConvergenceWarning: The max_iter was reached which means the coef_ did not converge\n",
      "  \"the coef_ did not converge\", ConvergenceWarning)\n",
      "/home/sayak/venv/lib/python3.6/site-packages/sklearn/linear_model/_sag.py:330: ConvergenceWarning: The max_iter was reached which means the coef_ did not converge\n",
      "  \"the coef_ did not converge\", ConvergenceWarning)\n"
     ]
    },
    {
     "name": "stdout",
     "output_type": "stream",
     "text": [
      "best_test_score = 0.6706586826347305,best_train_score = 0.6099397590361446,best_solver = sag ,best_penalty = l2, best_C = 0.012, best_max_iter = 1\n"
     ]
    },
    {
     "name": "stderr",
     "output_type": "stream",
     "text": [
      "/home/sayak/venv/lib/python3.6/site-packages/sklearn/linear_model/_sag.py:330: ConvergenceWarning: The max_iter was reached which means the coef_ did not converge\n",
      "  \"the coef_ did not converge\", ConvergenceWarning)\n",
      "/home/sayak/venv/lib/python3.6/site-packages/sklearn/linear_model/_sag.py:330: ConvergenceWarning: The max_iter was reached which means the coef_ did not converge\n",
      "  \"the coef_ did not converge\", ConvergenceWarning)\n",
      "/home/sayak/venv/lib/python3.6/site-packages/sklearn/linear_model/_sag.py:330: ConvergenceWarning: The max_iter was reached which means the coef_ did not converge\n",
      "  \"the coef_ did not converge\", ConvergenceWarning)\n",
      "/home/sayak/venv/lib/python3.6/site-packages/sklearn/linear_model/_sag.py:330: ConvergenceWarning: The max_iter was reached which means the coef_ did not converge\n",
      "  \"the coef_ did not converge\", ConvergenceWarning)\n",
      "/home/sayak/venv/lib/python3.6/site-packages/sklearn/linear_model/_sag.py:330: ConvergenceWarning: The max_iter was reached which means the coef_ did not converge\n",
      "  \"the coef_ did not converge\", ConvergenceWarning)\n",
      "/home/sayak/venv/lib/python3.6/site-packages/sklearn/linear_model/_sag.py:330: ConvergenceWarning: The max_iter was reached which means the coef_ did not converge\n",
      "  \"the coef_ did not converge\", ConvergenceWarning)\n",
      "/home/sayak/venv/lib/python3.6/site-packages/sklearn/linear_model/_sag.py:330: ConvergenceWarning: The max_iter was reached which means the coef_ did not converge\n",
      "  \"the coef_ did not converge\", ConvergenceWarning)\n",
      "/home/sayak/venv/lib/python3.6/site-packages/sklearn/linear_model/_sag.py:330: ConvergenceWarning: The max_iter was reached which means the coef_ did not converge\n",
      "  \"the coef_ did not converge\", ConvergenceWarning)\n",
      "/home/sayak/venv/lib/python3.6/site-packages/sklearn/linear_model/_sag.py:330: ConvergenceWarning: The max_iter was reached which means the coef_ did not converge\n",
      "  \"the coef_ did not converge\", ConvergenceWarning)\n",
      "/home/sayak/venv/lib/python3.6/site-packages/sklearn/linear_model/_sag.py:330: ConvergenceWarning: The max_iter was reached which means the coef_ did not converge\n",
      "  \"the coef_ did not converge\", ConvergenceWarning)\n",
      "/home/sayak/venv/lib/python3.6/site-packages/sklearn/linear_model/_sag.py:330: ConvergenceWarning: The max_iter was reached which means the coef_ did not converge\n",
      "  \"the coef_ did not converge\", ConvergenceWarning)\n",
      "/home/sayak/venv/lib/python3.6/site-packages/sklearn/linear_model/_sag.py:330: ConvergenceWarning: The max_iter was reached which means the coef_ did not converge\n",
      "  \"the coef_ did not converge\", ConvergenceWarning)\n",
      "/home/sayak/venv/lib/python3.6/site-packages/sklearn/linear_model/_sag.py:330: ConvergenceWarning: The max_iter was reached which means the coef_ did not converge\n",
      "  \"the coef_ did not converge\", ConvergenceWarning)\n",
      "/home/sayak/venv/lib/python3.6/site-packages/sklearn/linear_model/_sag.py:330: ConvergenceWarning: The max_iter was reached which means the coef_ did not converge\n",
      "  \"the coef_ did not converge\", ConvergenceWarning)\n"
     ]
    }
   ],
   "source": [
    "\n",
    "#solver = ['newton-cg', 'lbfgs', 'liblinear', 'sag', 'saga']\n",
    "#penalty = ['l1', 'l2', 'elasticnet', 'none']\n",
    "#C = [0.0001,0.001,0.01,0.1,1,10]\n",
    "#max_iter = [80,90,100]\n",
    "best_test_score=0\n",
    "best_train_score=0\n",
    "best_solver = ''\n",
    "best_penalty = ''\n",
    "best_C = 0\n",
    "best_max_iter = 0\n",
    "for solver in ['lbfgs', 'liblinear', 'sag', 'saga']:\n",
    "    for penalty in ['l2']:\n",
    "        for C in [0.012,0.011,0.0115,0.0116,0.0117,0.0118,0.0119,0.0121,0.0122,0.0123,0.0124]:\n",
    "            for max_iter in [1,2,3]:\n",
    "                \n",
    "                classifier = LogisticRegression(solver=solver,penalty=penalty,C = C,max_iter=max_iter,random_state = 0)\n",
    "                classifier.fit(X_train, y_train)\n",
    "                \n",
    "                train_score = classifier.score(X_train,y_train)\n",
    "                test_score = classifier.score(X_test,y_test)\n",
    "                \n",
    "                if(test_score > best_test_score):\n",
    "                    best_test_score = test_score\n",
    "                    best_train_score = train_score\n",
    "                    best_solver = solver\n",
    "                    best_penalty = penalty\n",
    "                    best_C = C\n",
    "                    best_max_iter = max_iter\n",
    "                \n",
    "print(\"best_test_score = {},best_train_score = {},best_solver = {} ,best_penalty = {}, best_C = {}, best_max_iter = {}\".format(best_test_score,best_train_score,best_solver,best_penalty,best_C,best_max_iter))        \n",
    "\n",
    "                \n",
    "                "
   ]
  },
  {
   "cell_type": "markdown",
   "metadata": {},
   "source": [
    "### best_test_score = 0.6706586826347305,best_train_score = 0.6099397590361446,best_solver = sag ,best_penalty = l2, best_C = 0.012, best_max_iter = 1"
   ]
  },
  {
   "cell_type": "markdown",
   "metadata": {},
   "source": [
    "# Gaussian NB"
   ]
  },
  {
   "cell_type": "code",
   "execution_count": 43,
   "metadata": {},
   "outputs": [
    {
     "name": "stdout",
     "output_type": "stream",
     "text": [
      "train_score = 0.6189759036144579 , test_score = 0.5688622754491018\n"
     ]
    }
   ],
   "source": [
    "classifier = GaussianNB()\n",
    "classifier.fit(X_train, y_train)\n",
    "\n",
    "train_score = classifier.score(X_train,y_train)\n",
    "test_score = classifier.score(X_test,y_test)\n",
    "\n",
    "print(\"train_score = {} , test_score = {}\".format(train_score,test_score))\n"
   ]
  },
  {
   "cell_type": "code",
   "execution_count": 44,
   "metadata": {},
   "outputs": [
    {
     "data": {
      "text/plain": [
       "array([[13, 46],\n",
       "       [26, 82]])"
      ]
     },
     "execution_count": 44,
     "metadata": {},
     "output_type": "execute_result"
    }
   ],
   "source": [
    "cm = confusion_matrix(y_test, classifier.predict(X_test))\n",
    "cm"
   ]
  },
  {
   "cell_type": "code",
   "execution_count": 45,
   "metadata": {},
   "outputs": [
    {
     "data": {
      "text/plain": [
       "0.5688622754491018"
      ]
     },
     "execution_count": 45,
     "metadata": {},
     "output_type": "execute_result"
    }
   ],
   "source": [
    "(13.0 + 82)/(13 + 46+26+82)"
   ]
  },
  {
   "cell_type": "markdown",
   "metadata": {},
   "source": [
    "### train_score = 0.6189759036144579 , test_score = 0.5688622754491018"
   ]
  },
  {
   "cell_type": "markdown",
   "metadata": {},
   "source": [
    "# SVC"
   ]
  },
  {
   "cell_type": "code",
   "execution_count": 49,
   "metadata": {},
   "outputs": [
    {
     "name": "stdout",
     "output_type": "stream",
     "text": [
      "best_test_score = 0.6706586826347305,best_train_score = 0.5783132530120482,best_C = 0.189, best_kernel = sigmoid\n"
     ]
    }
   ],
   "source": [
    "# C = [0.0001,0.001,0.01,0.1,1,10]\n",
    "# kernel = ['linear', 'poly', 'rbf', 'sigmoid', 'precomputed']\n",
    "# gamma = ['scale' , 'auto']\n",
    "# max_iter\n",
    "best_test_score=0\n",
    "best_train_score=0\n",
    "best_C = 0\n",
    "best_kernel = ''\n",
    "\n",
    "for C in [0.188,0.189,0.19]:\n",
    "    for kernel in ['linear', 'poly', 'rbf', 'sigmoid']:\n",
    "        \n",
    "        classifier = SVC(C=C,kernel=kernel,random_state = 0)\n",
    "        classifier.fit(X_train, y_train)\n",
    "        \n",
    "        train_score = classifier.score(X_train,y_train)\n",
    "        test_score = classifier.score(X_test,y_test)\n",
    "\n",
    "        if(test_score > best_test_score):\n",
    "            best_C = C\n",
    "            best_test_score = test_score\n",
    "            best_train_score = train_score\n",
    "            best_kernel = kernel\n",
    "            \n",
    "print(\"best_test_score = {},best_train_score = {},best_C = {}, best_kernel = {}\".format(best_test_score,best_train_score,best_C,best_kernel))        \n"
   ]
  },
  {
   "cell_type": "markdown",
   "metadata": {},
   "source": [
    "### best_test_score = 0.6706586826347305,best_train_score = 0.5783132530120482,best_C = 0.189, best_kernel = sigmoid"
   ]
  },
  {
   "cell_type": "markdown",
   "metadata": {},
   "source": [
    "# ANN"
   ]
  },
  {
   "cell_type": "code",
   "execution_count": 136,
   "metadata": {},
   "outputs": [],
   "source": [
    "#Importing the Keras libraries and packages\n",
    "import keras\n",
    "from keras.models import Sequential\n",
    "from keras.layers import Dense,Dropout"
   ]
  },
  {
   "cell_type": "code",
   "execution_count": 187,
   "metadata": {},
   "outputs": [],
   "source": [
    "\n",
    "# Initialising the ANN\n",
    "classifier = Sequential()\n",
    "\n",
    "# Adding the input layer and the first hidden layer\n",
    "# output_dim--no. of node|init--initialises the weights\n",
    "classifier.add(Dense(32, kernel_initializer=\"glorot_uniform\",bias_initializer=\"zeros\", activation = 'relu'))\n",
    "classifier.add(Dropout(.2))\n",
    "\n",
    "classifier.add(Dense(32, kernel_initializer=\"glorot_uniform\",bias_initializer=\"zeros\", activation = 'relu'))\n",
    "classifier.add(Dropout(.8))\n",
    "\n",
    "# Adding the second hidden layer\n",
    "classifier.add(Dense(8, kernel_initializer=\"glorot_uniform\",bias_initializer=\"zeros\", activation = 'relu'))\n",
    "classifier.add(Dropout(.5))\n",
    "\n",
    "# Adding the output layer\n",
    "# sigmoid has been used for binary output.In case of more than two categories we may use softmax activation function\n",
    "classifier.add(Dense(1,  kernel_initializer=\"glorot_uniform\",bias_initializer=\"zeros\",activation = 'sigmoid'))\n"
   ]
  },
  {
   "cell_type": "code",
   "execution_count": 188,
   "metadata": {},
   "outputs": [],
   "source": [
    "opt = keras.optimizers.Adam(learning_rate=0.01)\n",
    "classifier.compile(optimizer = opt, loss = 'binary_crossentropy',metrics = ['accuracy'])"
   ]
  },
  {
   "cell_type": "code",
   "execution_count": 189,
   "metadata": {},
   "outputs": [
    {
     "name": "stdout",
     "output_type": "stream",
     "text": [
      "Epoch 1/100\n",
      "67/67 [==============================] - 0s 3ms/step - loss: 0.8222 - accuracy: 0.5693\n",
      "Epoch 2/100\n",
      "67/67 [==============================] - 0s 3ms/step - loss: 0.6890 - accuracy: 0.5979\n",
      "Epoch 3/100\n",
      "67/67 [==============================] - 0s 3ms/step - loss: 0.6895 - accuracy: 0.5934\n",
      "Epoch 4/100\n",
      "67/67 [==============================] - 0s 3ms/step - loss: 0.6757 - accuracy: 0.5889\n",
      "Epoch 5/100\n",
      "67/67 [==============================] - 0s 3ms/step - loss: 0.6709 - accuracy: 0.5994\n",
      "Epoch 6/100\n",
      "67/67 [==============================] - 0s 3ms/step - loss: 0.6775 - accuracy: 0.5979\n",
      "Epoch 7/100\n",
      "67/67 [==============================] - 0s 3ms/step - loss: 0.6728 - accuracy: 0.6009\n",
      "Epoch 8/100\n",
      "67/67 [==============================] - 0s 4ms/step - loss: 0.6788 - accuracy: 0.6024\n",
      "Epoch 9/100\n",
      "67/67 [==============================] - 0s 4ms/step - loss: 0.6809 - accuracy: 0.6009\n",
      "Epoch 10/100\n",
      "67/67 [==============================] - 0s 3ms/step - loss: 0.6802 - accuracy: 0.5994\n",
      "Epoch 11/100\n",
      "67/67 [==============================] - 0s 3ms/step - loss: 0.6728 - accuracy: 0.6024\n",
      "Epoch 12/100\n",
      "67/67 [==============================] - 0s 3ms/step - loss: 0.6723 - accuracy: 0.6024\n",
      "Epoch 13/100\n",
      "67/67 [==============================] - 0s 3ms/step - loss: 0.6721 - accuracy: 0.6009\n",
      "Epoch 14/100\n",
      "67/67 [==============================] - 0s 3ms/step - loss: 0.6729 - accuracy: 0.5994\n",
      "Epoch 15/100\n",
      "67/67 [==============================] - 0s 3ms/step - loss: 0.6717 - accuracy: 0.6024\n",
      "Epoch 16/100\n",
      "67/67 [==============================] - 0s 3ms/step - loss: 0.6788 - accuracy: 0.6039\n",
      "Epoch 17/100\n",
      "67/67 [==============================] - 0s 3ms/step - loss: 0.6777 - accuracy: 0.5994\n",
      "Epoch 18/100\n",
      "67/67 [==============================] - 0s 3ms/step - loss: 0.6831 - accuracy: 0.5994\n",
      "Epoch 19/100\n",
      "67/67 [==============================] - 0s 3ms/step - loss: 0.6716 - accuracy: 0.6024\n",
      "Epoch 20/100\n",
      "67/67 [==============================] - 0s 3ms/step - loss: 0.6815 - accuracy: 0.6009\n",
      "Epoch 21/100\n",
      "67/67 [==============================] - 0s 3ms/step - loss: 0.6737 - accuracy: 0.6024\n",
      "Epoch 22/100\n",
      "67/67 [==============================] - 0s 3ms/step - loss: 0.6736 - accuracy: 0.6024\n",
      "Epoch 23/100\n",
      "67/67 [==============================] - 0s 3ms/step - loss: 0.6717 - accuracy: 0.6024\n",
      "Epoch 24/100\n",
      "67/67 [==============================] - 0s 3ms/step - loss: 0.6722 - accuracy: 0.6024\n",
      "Epoch 25/100\n",
      "67/67 [==============================] - 0s 3ms/step - loss: 0.6714 - accuracy: 0.6024\n",
      "Epoch 26/100\n",
      "67/67 [==============================] - 0s 3ms/step - loss: 0.6700 - accuracy: 0.6024\n",
      "Epoch 27/100\n",
      "67/67 [==============================] - 0s 3ms/step - loss: 0.6660 - accuracy: 0.6024\n",
      "Epoch 28/100\n",
      "67/67 [==============================] - 0s 3ms/step - loss: 0.6600 - accuracy: 0.6054\n",
      "Epoch 29/100\n",
      "67/67 [==============================] - 0s 3ms/step - loss: 0.6923 - accuracy: 0.6009\n",
      "Epoch 30/100\n",
      "67/67 [==============================] - 0s 3ms/step - loss: 0.6708 - accuracy: 0.5994\n",
      "Epoch 31/100\n",
      "67/67 [==============================] - 0s 3ms/step - loss: 0.6760 - accuracy: 0.6024\n",
      "Epoch 32/100\n",
      "67/67 [==============================] - 0s 3ms/step - loss: 0.6944 - accuracy: 0.5949\n",
      "Epoch 33/100\n",
      "67/67 [==============================] - 0s 3ms/step - loss: 0.6729 - accuracy: 0.6024\n",
      "Epoch 34/100\n",
      "67/67 [==============================] - 0s 3ms/step - loss: 0.6712 - accuracy: 0.6009\n",
      "Epoch 35/100\n",
      "67/67 [==============================] - 0s 3ms/step - loss: 0.6719 - accuracy: 0.6024\n",
      "Epoch 36/100\n",
      "67/67 [==============================] - 0s 3ms/step - loss: 0.6723 - accuracy: 0.6009\n",
      "Epoch 37/100\n",
      "67/67 [==============================] - 0s 3ms/step - loss: 0.6674 - accuracy: 0.6024\n",
      "Epoch 38/100\n",
      "67/67 [==============================] - 0s 3ms/step - loss: 0.6719 - accuracy: 0.6009\n",
      "Epoch 39/100\n",
      "67/67 [==============================] - 0s 3ms/step - loss: 0.6657 - accuracy: 0.5994\n",
      "Epoch 40/100\n",
      "67/67 [==============================] - 0s 3ms/step - loss: 0.6723 - accuracy: 0.6024\n",
      "Epoch 41/100\n",
      "67/67 [==============================] - 0s 3ms/step - loss: 0.6760 - accuracy: 0.6009\n",
      "Epoch 42/100\n",
      "67/67 [==============================] - 0s 3ms/step - loss: 0.6735 - accuracy: 0.6009\n",
      "Epoch 43/100\n",
      "67/67 [==============================] - 0s 3ms/step - loss: 0.6720 - accuracy: 0.6009\n",
      "Epoch 44/100\n",
      "67/67 [==============================] - 0s 4ms/step - loss: 0.6711 - accuracy: 0.6024\n",
      "Epoch 45/100\n",
      "67/67 [==============================] - 0s 3ms/step - loss: 0.6703 - accuracy: 0.6024\n",
      "Epoch 46/100\n",
      "67/67 [==============================] - 0s 3ms/step - loss: 0.6697 - accuracy: 0.6024\n",
      "Epoch 47/100\n",
      "67/67 [==============================] - 0s 3ms/step - loss: 0.6682 - accuracy: 0.6024\n",
      "Epoch 48/100\n",
      "67/67 [==============================] - 0s 4ms/step - loss: 0.6711 - accuracy: 0.6024\n",
      "Epoch 49/100\n",
      "67/67 [==============================] - 0s 4ms/step - loss: 0.6764 - accuracy: 0.5979\n",
      "Epoch 50/100\n",
      "67/67 [==============================] - 0s 4ms/step - loss: 0.6749 - accuracy: 0.6024\n",
      "Epoch 51/100\n",
      "67/67 [==============================] - 0s 4ms/step - loss: 0.6716 - accuracy: 0.6024\n",
      "Epoch 52/100\n",
      "67/67 [==============================] - 0s 4ms/step - loss: 0.6740 - accuracy: 0.6024\n",
      "Epoch 53/100\n",
      "67/67 [==============================] - 0s 4ms/step - loss: 0.6688 - accuracy: 0.6024\n",
      "Epoch 54/100\n",
      "67/67 [==============================] - 0s 3ms/step - loss: 0.6741 - accuracy: 0.6024\n",
      "Epoch 55/100\n",
      "67/67 [==============================] - 0s 3ms/step - loss: 0.6672 - accuracy: 0.6024\n",
      "Epoch 56/100\n",
      "67/67 [==============================] - 0s 3ms/step - loss: 0.6724 - accuracy: 0.6024\n",
      "Epoch 57/100\n",
      "67/67 [==============================] - 0s 4ms/step - loss: 0.6713 - accuracy: 0.6024\n",
      "Epoch 58/100\n",
      "67/67 [==============================] - 0s 3ms/step - loss: 0.6724 - accuracy: 0.6024\n",
      "Epoch 59/100\n",
      "67/67 [==============================] - 0s 3ms/step - loss: 0.6771 - accuracy: 0.6024\n",
      "Epoch 60/100\n",
      "67/67 [==============================] - 0s 3ms/step - loss: 0.6736 - accuracy: 0.5994\n",
      "Epoch 61/100\n",
      "67/67 [==============================] - 0s 4ms/step - loss: 0.6683 - accuracy: 0.6024\n",
      "Epoch 62/100\n",
      "67/67 [==============================] - 0s 3ms/step - loss: 0.6724 - accuracy: 0.6024\n",
      "Epoch 63/100\n",
      "67/67 [==============================] - 0s 3ms/step - loss: 0.6710 - accuracy: 0.6024\n",
      "Epoch 64/100\n",
      "67/67 [==============================] - 0s 4ms/step - loss: 0.6626 - accuracy: 0.6024\n",
      "Epoch 65/100\n",
      "67/67 [==============================] - 0s 3ms/step - loss: 0.6825 - accuracy: 0.6024\n",
      "Epoch 66/100\n",
      "67/67 [==============================] - 0s 3ms/step - loss: 0.6732 - accuracy: 0.6009\n",
      "Epoch 67/100\n",
      "67/67 [==============================] - 0s 3ms/step - loss: 0.6753 - accuracy: 0.6024\n",
      "Epoch 68/100\n",
      "67/67 [==============================] - 0s 3ms/step - loss: 0.6605 - accuracy: 0.6024\n",
      "Epoch 69/100\n",
      "67/67 [==============================] - 0s 4ms/step - loss: 0.6776 - accuracy: 0.5979\n",
      "Epoch 70/100\n",
      "67/67 [==============================] - 0s 4ms/step - loss: 0.6770 - accuracy: 0.6024\n",
      "Epoch 71/100\n",
      "67/67 [==============================] - 0s 3ms/step - loss: 0.6662 - accuracy: 0.5979\n",
      "Epoch 72/100\n",
      "67/67 [==============================] - 0s 3ms/step - loss: 0.6719 - accuracy: 0.6024\n",
      "Epoch 73/100\n",
      "67/67 [==============================] - 0s 3ms/step - loss: 0.6703 - accuracy: 0.6024\n",
      "Epoch 74/100\n",
      "67/67 [==============================] - 0s 3ms/step - loss: 0.6746 - accuracy: 0.6024\n",
      "Epoch 75/100\n",
      "67/67 [==============================] - 0s 3ms/step - loss: 0.6730 - accuracy: 0.5979\n",
      "Epoch 76/100\n",
      "67/67 [==============================] - 0s 3ms/step - loss: 0.6791 - accuracy: 0.6024\n",
      "Epoch 77/100\n",
      "67/67 [==============================] - 0s 3ms/step - loss: 0.6762 - accuracy: 0.5994\n",
      "Epoch 78/100\n",
      "67/67 [==============================] - 0s 3ms/step - loss: 0.6703 - accuracy: 0.6024\n",
      "Epoch 79/100\n",
      "67/67 [==============================] - 0s 3ms/step - loss: 0.6945 - accuracy: 0.5964\n",
      "Epoch 80/100\n",
      "67/67 [==============================] - 0s 3ms/step - loss: 0.6709 - accuracy: 0.5994\n",
      "Epoch 81/100\n",
      "67/67 [==============================] - 0s 4ms/step - loss: 0.6663 - accuracy: 0.6024\n",
      "Epoch 82/100\n",
      "67/67 [==============================] - 0s 3ms/step - loss: 0.6621 - accuracy: 0.6024\n",
      "Epoch 83/100\n"
     ]
    },
    {
     "name": "stdout",
     "output_type": "stream",
     "text": [
      "67/67 [==============================] - 0s 3ms/step - loss: 0.6683 - accuracy: 0.6024\n",
      "Epoch 84/100\n",
      "67/67 [==============================] - 0s 3ms/step - loss: 0.6677 - accuracy: 0.6024\n",
      "Epoch 85/100\n",
      "67/67 [==============================] - 0s 4ms/step - loss: 0.6715 - accuracy: 0.5994\n",
      "Epoch 86/100\n",
      "67/67 [==============================] - 0s 3ms/step - loss: 0.6635 - accuracy: 0.6024\n",
      "Epoch 87/100\n",
      "67/67 [==============================] - 0s 3ms/step - loss: 0.6721 - accuracy: 0.6024\n",
      "Epoch 88/100\n",
      "67/67 [==============================] - 0s 3ms/step - loss: 0.6650 - accuracy: 0.6024\n",
      "Epoch 89/100\n",
      "67/67 [==============================] - 0s 3ms/step - loss: 0.6757 - accuracy: 0.6009\n",
      "Epoch 90/100\n",
      "67/67 [==============================] - 0s 3ms/step - loss: 0.6774 - accuracy: 0.6024\n",
      "Epoch 91/100\n",
      "67/67 [==============================] - 0s 3ms/step - loss: 0.6732 - accuracy: 0.5994\n",
      "Epoch 92/100\n",
      "67/67 [==============================] - 0s 3ms/step - loss: 0.6726 - accuracy: 0.6024\n",
      "Epoch 93/100\n",
      "67/67 [==============================] - 0s 3ms/step - loss: 0.6714 - accuracy: 0.6039\n",
      "Epoch 94/100\n",
      "67/67 [==============================] - 0s 3ms/step - loss: 0.6726 - accuracy: 0.6024\n",
      "Epoch 95/100\n",
      "67/67 [==============================] - 0s 3ms/step - loss: 0.6640 - accuracy: 0.6024\n",
      "Epoch 96/100\n",
      "67/67 [==============================] - 0s 3ms/step - loss: 0.6808 - accuracy: 0.6024\n",
      "Epoch 97/100\n",
      "67/67 [==============================] - 0s 3ms/step - loss: 0.6723 - accuracy: 0.5994\n",
      "Epoch 98/100\n",
      "67/67 [==============================] - 0s 3ms/step - loss: 0.6709 - accuracy: 0.6009\n",
      "Epoch 99/100\n",
      "67/67 [==============================] - 0s 4ms/step - loss: 0.6657 - accuracy: 0.6024\n",
      "Epoch 100/100\n",
      "67/67 [==============================] - 0s 3ms/step - loss: 0.6758 - accuracy: 0.6024\n"
     ]
    },
    {
     "data": {
      "text/plain": [
       "<tensorflow.python.keras.callbacks.History at 0x7f9a141af048>"
      ]
     },
     "execution_count": 189,
     "metadata": {},
     "output_type": "execute_result"
    }
   ],
   "source": [
    "classifier.fit(X_train, y_train,batch_size=10, epochs=100)"
   ]
  },
  {
   "cell_type": "code",
   "execution_count": 190,
   "metadata": {},
   "outputs": [],
   "source": [
    "y_pred = classifier.predict(X_test)\n",
    "y_pred = (y_pred > 0.5)"
   ]
  },
  {
   "cell_type": "code",
   "execution_count": 191,
   "metadata": {},
   "outputs": [
    {
     "data": {
      "text/plain": [
       "array([[  0,  59],\n",
       "       [  0, 108]])"
      ]
     },
     "execution_count": 191,
     "metadata": {},
     "output_type": "execute_result"
    }
   ],
   "source": [
    "cm = confusion_matrix(y_test, y_pred)\n",
    "cm"
   ]
  },
  {
   "cell_type": "code",
   "execution_count": 186,
   "metadata": {},
   "outputs": [
    {
     "data": {
      "text/plain": [
       "0.6467065868263473"
      ]
     },
     "execution_count": 186,
     "metadata": {},
     "output_type": "execute_result"
    }
   ],
   "source": [
    "(cm[0][0] + cm[1][1])/(cm[0][0] + cm[0][1] + cm[1][0] + cm[1][1])"
   ]
  },
  {
   "cell_type": "code",
   "execution_count": 175,
   "metadata": {},
   "outputs": [],
   "source": [
    "scores = classifier.evaluate(X_test, y_test, verbose=0)"
   ]
  },
  {
   "cell_type": "code",
   "execution_count": 176,
   "metadata": {},
   "outputs": [
    {
     "name": "stdout",
     "output_type": "stream",
     "text": [
      "Accuracy: 61.08%\n"
     ]
    }
   ],
   "source": [
    "print(\"Accuracy: %.2f%%\" % (scores[1]*100))"
   ]
  },
  {
   "cell_type": "code",
   "execution_count": 177,
   "metadata": {},
   "outputs": [
    {
     "data": {
      "text/plain": [
       "[0.7270171046257019, 0.6107784509658813]"
      ]
     },
     "execution_count": 177,
     "metadata": {},
     "output_type": "execute_result"
    }
   ],
   "source": [
    "scores"
   ]
  },
  {
   "cell_type": "code",
   "execution_count": 178,
   "metadata": {},
   "outputs": [],
   "source": [
    "y_pred = classifier.predict(X_train)\n",
    "y_pred = (y_pred > 0.5)"
   ]
  },
  {
   "cell_type": "code",
   "execution_count": 179,
   "metadata": {},
   "outputs": [
    {
     "data": {
      "text/plain": [
       "array([[ 48, 216],\n",
       "       [ 12, 388]])"
      ]
     },
     "execution_count": 179,
     "metadata": {},
     "output_type": "execute_result"
    }
   ],
   "source": [
    "cm = confusion_matrix(y_train, y_pred)\n",
    "cm"
   ]
  },
  {
   "cell_type": "code",
   "execution_count": 180,
   "metadata": {},
   "outputs": [
    {
     "data": {
      "text/plain": [
       "0.6566265060240963"
      ]
     },
     "execution_count": 180,
     "metadata": {},
     "output_type": "execute_result"
    }
   ],
   "source": [
    "(cm[0][0] + cm[1][1])/(cm[0][0] + cm[0][1] + cm[1][0] + cm[1][1])"
   ]
  },
  {
   "cell_type": "markdown",
   "metadata": {},
   "source": [
    "### train = 70.2 test= 64.07"
   ]
  },
  {
   "cell_type": "markdown",
   "metadata": {},
   "source": [
    "# LSTM"
   ]
  },
  {
   "cell_type": "code",
   "execution_count": 192,
   "metadata": {},
   "outputs": [],
   "source": [
    "from keras.layers import LSTM"
   ]
  },
  {
   "cell_type": "code",
   "execution_count": 193,
   "metadata": {},
   "outputs": [],
   "source": [
    "\n",
    "X_train, y_train = np.array(X_train), np.array(y_train)\n",
    "X_train = np.reshape(X_train, (X_train.shape[0], X_train.shape[1], 1))\n",
    "X_test = np.array(X_test)\n",
    "X_test = np.reshape(X_test, (X_test.shape[0], X_test.shape[1], 1))\n",
    "\n",
    "# Initialising the RNN\n",
    "classifier = Sequential()\n",
    "\n",
    "# Adding the first LSTM layer and some Dropout regularisation\n",
    "classifier.add(LSTM(units = 50, return_sequences = True))\n",
    "classifier.add(Dropout(0.2))\n",
    "\n",
    "# Adding a second LSTM layer and some Dropout regularisation\n",
    "classifier.add(LSTM(units = 50, return_sequences = True))\n",
    "classifier.add(Dropout(0.2))\n",
    "\n",
    "# Adding a third LSTM layer and some Dropout regularisation\n",
    "classifier.add(LSTM(units = 50, return_sequences = True))\n",
    "classifier.add(Dropout(0.2))\n",
    "\n",
    "# Adding a fourth LSTM layer and some Dropout regularisation\n",
    "classifier.add(LSTM(units = 50))\n",
    "classifier.add(Dropout(0.2))\n",
    "\n",
    "# Adding the output layer\n",
    "classifier.add(Dense(units = 1))"
   ]
  },
  {
   "cell_type": "code",
   "execution_count": 194,
   "metadata": {},
   "outputs": [],
   "source": [
    "opt = keras.optimizers.Adam(learning_rate=0.01)\n",
    "classifier.compile(optimizer = 'adam', loss = 'mean_squared_error')"
   ]
  },
  {
   "cell_type": "code",
   "execution_count": 195,
   "metadata": {},
   "outputs": [
    {
     "name": "stdout",
     "output_type": "stream",
     "text": [
      "Epoch 1/100\n",
      "67/67 [==============================] - 4s 57ms/step - loss: 0.2934\n",
      "Epoch 2/100\n",
      "67/67 [==============================] - 4s 55ms/step - loss: 0.2497\n",
      "Epoch 3/100\n",
      "67/67 [==============================] - 4s 55ms/step - loss: 0.2432\n",
      "Epoch 4/100\n",
      "67/67 [==============================] - 4s 56ms/step - loss: 0.2477\n",
      "Epoch 5/100\n",
      "67/67 [==============================] - 4s 55ms/step - loss: 0.2478\n",
      "Epoch 6/100\n",
      "67/67 [==============================] - 4s 56ms/step - loss: 0.2401\n",
      "Epoch 7/100\n",
      "67/67 [==============================] - 4s 56ms/step - loss: 0.2366\n",
      "Epoch 8/100\n",
      "67/67 [==============================] - 4s 56ms/step - loss: 0.2353\n",
      "Epoch 9/100\n",
      "67/67 [==============================] - 4s 56ms/step - loss: 0.2373\n",
      "Epoch 10/100\n",
      "67/67 [==============================] - 4s 56ms/step - loss: 0.2416\n",
      "Epoch 11/100\n",
      "67/67 [==============================] - 4s 56ms/step - loss: 0.2387\n",
      "Epoch 12/100\n",
      "67/67 [==============================] - 4s 57ms/step - loss: 0.2430\n",
      "Epoch 13/100\n",
      "67/67 [==============================] - 4s 57ms/step - loss: 0.2361\n",
      "Epoch 14/100\n",
      "67/67 [==============================] - 4s 57ms/step - loss: 0.2367\n",
      "Epoch 15/100\n",
      "67/67 [==============================] - 4s 56ms/step - loss: 0.2392\n",
      "Epoch 16/100\n",
      "67/67 [==============================] - 4s 57ms/step - loss: 0.2368\n",
      "Epoch 17/100\n",
      "67/67 [==============================] - 4s 56ms/step - loss: 0.2346\n",
      "Epoch 18/100\n",
      "67/67 [==============================] - 4s 58ms/step - loss: 0.2388\n",
      "Epoch 19/100\n",
      "67/67 [==============================] - 4s 57ms/step - loss: 0.2345\n",
      "Epoch 20/100\n",
      "67/67 [==============================] - 4s 58ms/step - loss: 0.2374\n",
      "Epoch 21/100\n",
      "67/67 [==============================] - 4s 58ms/step - loss: 0.2324\n",
      "Epoch 22/100\n",
      "67/67 [==============================] - 4s 57ms/step - loss: 0.2385\n",
      "Epoch 23/100\n",
      "67/67 [==============================] - 4s 57ms/step - loss: 0.2309\n",
      "Epoch 24/100\n",
      "67/67 [==============================] - 4s 58ms/step - loss: 0.2386\n",
      "Epoch 25/100\n",
      "67/67 [==============================] - 4s 57ms/step - loss: 0.2359\n",
      "Epoch 26/100\n",
      "67/67 [==============================] - 4s 59ms/step - loss: 0.2305\n",
      "Epoch 27/100\n",
      "67/67 [==============================] - 4s 58ms/step - loss: 0.2320\n",
      "Epoch 28/100\n",
      "67/67 [==============================] - 4s 58ms/step - loss: 0.2350\n",
      "Epoch 29/100\n",
      "67/67 [==============================] - 4s 57ms/step - loss: 0.2327\n",
      "Epoch 30/100\n",
      "67/67 [==============================] - 4s 58ms/step - loss: 0.2319\n",
      "Epoch 31/100\n",
      "67/67 [==============================] - 4s 59ms/step - loss: 0.2305\n",
      "Epoch 32/100\n",
      "67/67 [==============================] - 4s 58ms/step - loss: 0.2335\n",
      "Epoch 33/100\n",
      "67/67 [==============================] - 4s 61ms/step - loss: 0.2326\n",
      "Epoch 34/100\n",
      "67/67 [==============================] - 4s 60ms/step - loss: 0.2308\n",
      "Epoch 35/100\n",
      "67/67 [==============================] - 4s 59ms/step - loss: 0.2325\n",
      "Epoch 36/100\n",
      "67/67 [==============================] - 4s 58ms/step - loss: 0.2301\n",
      "Epoch 37/100\n",
      "67/67 [==============================] - 4s 58ms/step - loss: 0.2333\n",
      "Epoch 38/100\n",
      "67/67 [==============================] - 4s 59ms/step - loss: 0.2302\n",
      "Epoch 39/100\n",
      "67/67 [==============================] - 4s 59ms/step - loss: 0.2283\n",
      "Epoch 40/100\n",
      "67/67 [==============================] - 4s 59ms/step - loss: 0.2306\n",
      "Epoch 41/100\n",
      "67/67 [==============================] - 4s 59ms/step - loss: 0.2299\n",
      "Epoch 42/100\n",
      "67/67 [==============================] - 4s 58ms/step - loss: 0.2309\n",
      "Epoch 43/100\n",
      "67/67 [==============================] - 4s 59ms/step - loss: 0.2266\n",
      "Epoch 44/100\n",
      "67/67 [==============================] - 4s 59ms/step - loss: 0.2274\n",
      "Epoch 45/100\n",
      "67/67 [==============================] - 4s 60ms/step - loss: 0.2281\n",
      "Epoch 46/100\n",
      "67/67 [==============================] - 4s 59ms/step - loss: 0.2257\n",
      "Epoch 47/100\n",
      "67/67 [==============================] - 4s 59ms/step - loss: 0.2275\n",
      "Epoch 48/100\n",
      "67/67 [==============================] - 4s 59ms/step - loss: 0.2265\n",
      "Epoch 49/100\n",
      "67/67 [==============================] - 4s 59ms/step - loss: 0.2277\n",
      "Epoch 50/100\n",
      "67/67 [==============================] - 4s 59ms/step - loss: 0.2287\n",
      "Epoch 51/100\n",
      "67/67 [==============================] - 4s 60ms/step - loss: 0.2288\n",
      "Epoch 52/100\n",
      "67/67 [==============================] - 4s 60ms/step - loss: 0.2280\n",
      "Epoch 53/100\n",
      "67/67 [==============================] - 4s 58ms/step - loss: 0.2252\n",
      "Epoch 54/100\n",
      "67/67 [==============================] - 4s 58ms/step - loss: 0.2267\n",
      "Epoch 55/100\n",
      "67/67 [==============================] - 4s 57ms/step - loss: 0.2246\n",
      "Epoch 56/100\n",
      "67/67 [==============================] - 4s 59ms/step - loss: 0.2250\n",
      "Epoch 57/100\n",
      "67/67 [==============================] - 4s 57ms/step - loss: 0.2242\n",
      "Epoch 58/100\n",
      "67/67 [==============================] - 4s 57ms/step - loss: 0.2242\n",
      "Epoch 59/100\n",
      "67/67 [==============================] - 4s 58ms/step - loss: 0.2206\n",
      "Epoch 60/100\n",
      "67/67 [==============================] - 4s 58ms/step - loss: 0.2217\n",
      "Epoch 61/100\n",
      "67/67 [==============================] - 4s 58ms/step - loss: 0.2203\n",
      "Epoch 62/100\n",
      "67/67 [==============================] - 4s 58ms/step - loss: 0.2220\n",
      "Epoch 63/100\n",
      "67/67 [==============================] - 4s 58ms/step - loss: 0.2223\n",
      "Epoch 64/100\n",
      "67/67 [==============================] - 4s 58ms/step - loss: 0.2235\n",
      "Epoch 65/100\n",
      "67/67 [==============================] - 4s 58ms/step - loss: 0.2198\n",
      "Epoch 66/100\n",
      "67/67 [==============================] - 4s 59ms/step - loss: 0.2203\n",
      "Epoch 67/100\n",
      "67/67 [==============================] - 4s 58ms/step - loss: 0.2218\n",
      "Epoch 68/100\n",
      "67/67 [==============================] - 4s 58ms/step - loss: 0.2202\n",
      "Epoch 69/100\n",
      "67/67 [==============================] - 4s 58ms/step - loss: 0.2189\n",
      "Epoch 70/100\n",
      "67/67 [==============================] - 4s 57ms/step - loss: 0.2200\n",
      "Epoch 71/100\n",
      "67/67 [==============================] - 4s 58ms/step - loss: 0.2142\n",
      "Epoch 72/100\n",
      "67/67 [==============================] - 4s 57ms/step - loss: 0.2154\n",
      "Epoch 73/100\n",
      "67/67 [==============================] - 4s 58ms/step - loss: 0.2212\n",
      "Epoch 74/100\n",
      "67/67 [==============================] - 4s 57ms/step - loss: 0.2184\n",
      "Epoch 75/100\n",
      "67/67 [==============================] - 4s 58ms/step - loss: 0.2140\n",
      "Epoch 76/100\n",
      "67/67 [==============================] - 4s 58ms/step - loss: 0.2155\n",
      "Epoch 77/100\n",
      "67/67 [==============================] - 4s 57ms/step - loss: 0.2184\n",
      "Epoch 78/100\n",
      "67/67 [==============================] - 4s 58ms/step - loss: 0.2118\n",
      "Epoch 79/100\n",
      "67/67 [==============================] - 4s 58ms/step - loss: 0.2173\n",
      "Epoch 80/100\n",
      "67/67 [==============================] - 4s 58ms/step - loss: 0.2130\n",
      "Epoch 81/100\n",
      "67/67 [==============================] - 4s 58ms/step - loss: 0.2179\n",
      "Epoch 82/100\n",
      "67/67 [==============================] - 4s 59ms/step - loss: 0.2124\n",
      "Epoch 83/100\n",
      "67/67 [==============================] - 4s 57ms/step - loss: 0.2109\n",
      "Epoch 84/100\n",
      "67/67 [==============================] - 4s 57ms/step - loss: 0.2085\n",
      "Epoch 85/100\n",
      "67/67 [==============================] - 4s 58ms/step - loss: 0.2115\n",
      "Epoch 86/100\n",
      "67/67 [==============================] - 4s 58ms/step - loss: 0.2080\n",
      "Epoch 87/100\n",
      "67/67 [==============================] - 4s 58ms/step - loss: 0.2026\n",
      "Epoch 88/100\n",
      "67/67 [==============================] - 4s 58ms/step - loss: 0.2038\n",
      "Epoch 89/100\n",
      "67/67 [==============================] - 4s 58ms/step - loss: 0.2025\n",
      "Epoch 90/100\n",
      "67/67 [==============================] - 4s 58ms/step - loss: 0.2042\n",
      "Epoch 91/100\n",
      "67/67 [==============================] - 4s 58ms/step - loss: 0.2013\n",
      "Epoch 92/100\n",
      "67/67 [==============================] - 4s 58ms/step - loss: 0.1976\n",
      "Epoch 93/100\n",
      "67/67 [==============================] - 4s 58ms/step - loss: 0.2013\n",
      "Epoch 94/100\n",
      "67/67 [==============================] - 4s 58ms/step - loss: 0.1955\n",
      "Epoch 95/100\n",
      "67/67 [==============================] - 4s 58ms/step - loss: 0.1955\n",
      "Epoch 96/100\n",
      "67/67 [==============================] - 4s 58ms/step - loss: 0.1970\n",
      "Epoch 97/100\n",
      "67/67 [==============================] - 4s 58ms/step - loss: 0.1902\n",
      "Epoch 98/100\n",
      "67/67 [==============================] - 4s 58ms/step - loss: 0.1952\n",
      "Epoch 99/100\n",
      "67/67 [==============================] - 4s 58ms/step - loss: 0.1908\n",
      "Epoch 100/100\n",
      "67/67 [==============================] - 4s 58ms/step - loss: 0.1911\n"
     ]
    },
    {
     "data": {
      "text/plain": [
       "<tensorflow.python.keras.callbacks.History at 0x7f99d17deac8>"
      ]
     },
     "execution_count": 195,
     "metadata": {},
     "output_type": "execute_result"
    }
   ],
   "source": [
    "classifier.fit(X_train, y_train,batch_size=10, epochs=100)"
   ]
  },
  {
   "cell_type": "code",
   "execution_count": 197,
   "metadata": {},
   "outputs": [
    {
     "data": {
      "text/plain": [
       "array([[21, 38],\n",
       "       [41, 67]])"
      ]
     },
     "execution_count": 197,
     "metadata": {},
     "output_type": "execute_result"
    }
   ],
   "source": [
    "y_pred = classifier.predict(X_test)\n",
    "y_pred = (y_pred > 0.5)\n",
    "\n",
    "cm = confusion_matrix(y_test, y_pred)\n",
    "cm"
   ]
  },
  {
   "cell_type": "code",
   "execution_count": 198,
   "metadata": {},
   "outputs": [
    {
     "data": {
      "text/plain": [
       "0.5269461077844312"
      ]
     },
     "execution_count": 198,
     "metadata": {},
     "output_type": "execute_result"
    }
   ],
   "source": [
    "(cm[0][0] + cm[1][1])/(cm[0][0] + cm[0][1] + cm[1][0] + cm[1][1])"
   ]
  }
 ],
 "metadata": {
  "kernelspec": {
   "display_name": "Python 2",
   "language": "python",
   "name": "python2"
  },
  "language_info": {
   "codemirror_mode": {
    "name": "ipython",
    "version": 2
   },
   "file_extension": ".py",
   "mimetype": "text/x-python",
   "name": "python",
   "nbconvert_exporter": "python",
   "pygments_lexer": "ipython2",
   "version": "2.7.17"
  }
 },
 "nbformat": 4,
 "nbformat_minor": 2
}
